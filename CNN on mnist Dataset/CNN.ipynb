{
 "cells": [
  {
   "cell_type": "markdown",
   "metadata": {},
   "source": [
    "Implimentation of Convolutipon Neural Network ON nmist Dataset\n",
    "========================================\n",
    "Importing tensoeflow library and mnist dataset "
   ]
  },
  {
   "cell_type": "code",
   "execution_count": 1,
   "metadata": {},
   "outputs": [],
   "source": [
    "import tensorflow as tf\n",
    "\n",
    "from tensorflow.examples.tutorials.mnist import input_data"
   ]
  },
  {
   "cell_type": "markdown",
   "metadata": {},
   "source": [
    "Declare batch size and classes\n",
    "========================================\n",
    "In Case of mnist classes are 10 (0 to 9)\n",
    "x = [None,784] because dataset have 28 X 28 size so 784 pixels in 1 image and Back and white so 2 dimensional"
   ]
  },
  {
   "cell_type": "code",
   "execution_count": 2,
   "metadata": {},
   "outputs": [
    {
     "name": "stdout",
     "output_type": "stream",
     "text": [
      "Successfully downloaded train-images-idx3-ubyte.gz 9912422 bytes.\n",
      "Extracting /input\\train-images-idx3-ubyte.gz\n",
      "Successfully downloaded train-labels-idx1-ubyte.gz 28881 bytes.\n",
      "Extracting /input\\train-labels-idx1-ubyte.gz\n",
      "Successfully downloaded t10k-images-idx3-ubyte.gz 1648877 bytes.\n",
      "Extracting /input\\t10k-images-idx3-ubyte.gz\n",
      "Successfully downloaded t10k-labels-idx1-ubyte.gz 4542 bytes.\n",
      "Extracting /input\\t10k-labels-idx1-ubyte.gz\n"
     ]
    }
   ],
   "source": [
    "mnist = input_data.read_data_sets(\"/input\", one_hot = True)\n",
    "\n",
    "n_classes = 10\n",
    "batch_size = 128\n",
    "\n",
    "x = tf.placeholder('float',[None,784])\n",
    "y = tf.placeholder('float')\n",
    "\n",
    "keep_rate = 0.8\n",
    "keep_prob = tf.placeholder(tf.float32)"
   ]
  },
  {
   "cell_type": "markdown",
   "metadata": {},
   "source": [
    "method for 2D convolution and maxpool\n",
    "========================================\n",
    "here strides mean how many pixel we shift during convolution and ksize is size of kernal(2 X 2) and 'SAME' is convolution type "
   ]
  },
  {
   "cell_type": "code",
   "execution_count": 3,
   "metadata": {
    "collapsed": true
   },
   "outputs": [],
   "source": [
    "def conv2d(x, W):\n",
    "\treturn tf.nn.conv2d(x, W, strides = [1,1,1,1],padding = 'SAME')\n",
    "\t\n",
    "def maxpool2d(x):\n",
    "\treturn tf.nn.max_pool(x, ksize = [1,2,2,1],strides = [1,2,2,1], padding = 'SAME')"
   ]
  },
  {
   "cell_type": "markdown",
   "metadata": {},
   "source": [
    "Defining Model\n",
    "========================================\n",
    "layer 1 will produce 32 output\n",
    "layer 1 will produce 64 output\n",
    "Fully connected layer 1024 output\n",
    "output layer will classify it into 10 classes\n",
    "(well you can play with no. of output)"
   ]
  },
  {
   "cell_type": "code",
   "execution_count": 4,
   "metadata": {
    "collapsed": true
   },
   "outputs": [],
   "source": [
    "def convolutional_neural_network(x):\n",
    "\tWeights = {'W_conv1':tf.Variable(tf.random_normal([5,5,1,32])),\n",
    "\t\t\t   'W_conv2':tf.Variable(tf.random_normal([5,5,32,64])),\n",
    "\t           'W_fc':tf.Variable(tf.random_normal([7*7*64,1024])),\n",
    "\t\t\t   'out':tf.Variable(tf.random_normal([1024,n_classes]))}\n",
    "\t\t\t   \n",
    "\tbiases = {'b_conv1':tf.Variable(tf.random_normal([32])),\n",
    "\t\t\t   'b_conv2':tf.Variable(tf.random_normal([64])),\n",
    "\t           'b_fc':tf.Variable(tf.random_normal([1024])),\n",
    "\t\t\t   'out':tf.Variable(tf.random_normal([n_classes]))}\n",
    "\t\n",
    "\tx = tf.reshape(x ,shape = [-1,28,28,1])\n",
    "\t\n",
    "\tconv1 = tf.nn.relu(conv2d(x,Weights['W_conv1'])+biases['b_conv1'])\n",
    "\tconv1 = maxpool2d(conv1)\n",
    "\t\n",
    "\tconv2 = tf.nn.relu(conv2d(conv1,Weights['W_conv2'])+biases['b_conv2'])\n",
    "\tconv2 = maxpool2d(conv2)\n",
    "\t\n",
    "\tfc = tf.reshape(conv2,[-1,7*7*64])\n",
    "\tfc = tf.nn.relu(tf.matmul(fc,Weights['W_fc']))+biases['b_fc']\n",
    "\n",
    "\tfc = tf.nn.dropout(fc,keep_rate)\n",
    "\t\n",
    "\toutput = tf.matmul(fc,Weights['out'])+biases['out']\n",
    "\t\t\t   \n",
    "\treturn output"
   ]
  },
  {
   "cell_type": "markdown",
   "metadata": {},
   "source": [
    "Training Part\n",
    "========================================\n",
    "To calculate cost used sofmax fuction which give probability\n",
    "No. of epoch you can decide how much you want\n",
    "AdamOptimizer I also don't know much about it"
   ]
  },
  {
   "cell_type": "code",
   "execution_count": 5,
   "metadata": {
    "collapsed": true
   },
   "outputs": [],
   "source": [
    "def train_neural_network(x):\n",
    "\tprediction = convolutional_neural_network(x)\n",
    "\tcost  = tf.reduce_mean(tf.nn.softmax_cross_entropy_with_logits(logits=prediction, labels=y))\n",
    "\toptimizer = tf.train.AdamOptimizer().minimize(cost) #default learning rate = 0.001\n",
    "\t\n",
    "\thm_epochs = 25\n",
    "\t\n",
    "\twith tf.Session() as sess:\n",
    "\t\tsess.run(tf.global_variables_initializer())\n",
    "\t\t\n",
    "\t\tfor epoch in range(hm_epochs):\n",
    "\t\t\tepoch_loss = 0\n",
    "\t\t\tfor _ in range(int(mnist.train.num_examples/batch_size)):\n",
    "\t\t\t\tepoch_x,epoch_y = mnist.train.next_batch(batch_size)\n",
    "\t\t\t\t_, c = sess.run([optimizer, cost], feed_dict = {x: epoch_x,y: epoch_y})\n",
    "\t\t\t\tepoch_loss += c\n",
    "\t\t\tprint('Epoch', epoch+1, 'Completed out of ',hm_epochs,'loss :',epoch_loss )\n",
    "\t\t\t\n",
    "\t\tcorrect = tf.equal(tf.argmax(prediction,1),tf.argmax(y,1))\n",
    "\t\t\n",
    "\t\taccuracy = tf.reduce_mean(tf.cast(correct,'float'))\n",
    "\t\tprint('Accuracy',accuracy.eval({x : mnist.test.images, y : mnist.test.labels}))"
   ]
  },
  {
   "cell_type": "code",
   "execution_count": null,
   "metadata": {
    "collapsed": true
   },
   "outputs": [],
   "source": [
    "train_neural_network(x)"
   ]
  },
  {
   "cell_type": "markdown",
   "metadata": {},
   "source": [
    "Output\n",
    "\n",
    "![title](Pictures\\cnn.png)"
   ]
  },
  {
   "cell_type": "code",
   "execution_count": null,
   "metadata": {
    "collapsed": true
   },
   "outputs": [],
   "source": []
  }
 ],
 "metadata": {
  "kernelspec": {
   "display_name": "Python 3",
   "language": "python",
   "name": "python3"
  },
  "language_info": {
   "codemirror_mode": {
    "name": "ipython",
    "version": 3
   },
   "file_extension": ".py",
   "mimetype": "text/x-python",
   "name": "python",
   "nbconvert_exporter": "python",
   "pygments_lexer": "ipython3",
   "version": "3.5.2"
  },
  "widgets": {
   "state": {},
   "version": "1.1.2"
  }
 },
 "nbformat": 4,
 "nbformat_minor": 2
}
